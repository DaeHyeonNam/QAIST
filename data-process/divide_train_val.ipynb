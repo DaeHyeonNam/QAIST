{
 "cells": [
  {
   "cell_type": "code",
   "execution_count": 6,
   "metadata": {},
   "outputs": [],
   "source": [
    "from os import listdir\n",
    "from os.path import isfile, join\n",
    "import os\n",
    "import random\n",
    "\n",
    "trainpath = \"/mnt/home/20150132/Desktop/dataset/wav/train/\"\n",
    "valpath = \"/mnt/home/20150132/Desktop/dataset/wav/val/\"\n",
    "files = [f for f in listdir(trainpath) if isfile(join(trainpath, f))]"
   ]
  },
  {
   "cell_type": "code",
   "execution_count": 7,
   "metadata": {},
   "outputs": [],
   "source": [
    "valIndex = ['004',\n",
    " '017',\n",
    " '019',\n",
    " '021',\n",
    " '034',\n",
    " '047',\n",
    " '055',\n",
    " '059',\n",
    " '064',\n",
    " '079',\n",
    " '080',\n",
    " '081',\n",
    " '085',\n",
    " '091',\n",
    " '092',\n",
    " '093',\n",
    " '096']"
   ]
  },
  {
   "cell_type": "code",
   "execution_count": 9,
   "metadata": {},
   "outputs": [],
   "source": [
    "for f in files:\n",
    "    if(f[8:11] in valIndex):\n",
    "        os.system(\"mv \"+trainpath+f+\" \"+valpath)"
   ]
  },
  {
   "cell_type": "code",
   "execution_count": 4,
   "metadata": {},
   "outputs": [],
   "source": [
    "trainpath = \"/mnt/home/20150132/Desktop/dataset/wav/train/\"\n",
    "valpath = \"/mnt/home/20150132/Desktop/dataset/wav/val/\"\n",
    "files = [f for f in listdir(valpath) if isfile(join(valpath, f))]"
   ]
  },
  {
   "cell_type": "code",
   "execution_count": 5,
   "metadata": {},
   "outputs": [],
   "source": [
    "for f in files:\n",
    "    os.system(\"mv \"+valpath+f+\" \"+trainpath)"
   ]
  },
  {
   "cell_type": "code",
   "execution_count": null,
   "metadata": {},
   "outputs": [],
   "source": []
  }
 ],
 "metadata": {
  "kernelspec": {
   "display_name": "Python 2",
   "language": "python",
   "name": "python2"
  },
  "language_info": {
   "codemirror_mode": {
    "name": "ipython",
    "version": 2
   },
   "file_extension": ".py",
   "mimetype": "text/x-python",
   "name": "python",
   "nbconvert_exporter": "python",
   "pygments_lexer": "ipython2",
   "version": "2.7.17"
  }
 },
 "nbformat": 4,
 "nbformat_minor": 2
}
