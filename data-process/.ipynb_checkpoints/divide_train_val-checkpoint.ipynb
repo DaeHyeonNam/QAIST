{
 "cells": [
  {
   "cell_type": "code",
   "execution_count": 1,
   "metadata": {},
   "outputs": [],
   "source": [
    "from os import listdir\n",
    "from os.path import isfile, join\n",
    "import os\n",
    "import random\n",
    "\n",
    "num = 20 # there are 100 actors, and choose how many actors do you wanna use as validation\n",
    "\n",
    "trainpath = \"/mnt/home/20150132/Desktop/dataset/train/\"\n",
    "valpath = \"/mnt/home/20150132/Desktop/dataset/val/\"\n",
    "files = [f for f in listdir(trainpath) if isfile(join(trainpath, f))]"
   ]
  },
  {
   "cell_type": "code",
   "execution_count": 3,
   "metadata": {},
   "outputs": [],
   "source": [
    "st= [sub[8:11] for sub in files]"
   ]
  },
  {
   "cell_type": "code",
   "execution_count": 4,
   "metadata": {},
   "outputs": [],
   "source": [
    "st_ls = list(set(st))"
   ]
  },
  {
   "cell_type": "code",
   "execution_count": 5,
   "metadata": {},
   "outputs": [],
   "source": [
    "rdNum = random.sample(range(100), num)"
   ]
  },
  {
   "cell_type": "code",
   "execution_count": 6,
   "metadata": {},
   "outputs": [],
   "source": [
    "rd_st_ls = [st_ls[a] for a in rdNum]"
   ]
  },
  {
   "cell_type": "code",
   "execution_count": 7,
   "metadata": {},
   "outputs": [],
   "source": [
    "for f in files:\n",
    "    if(f[8:11] in rd_st_ls):\n",
    "        os.system(\"mv \"+trainpath+f+\" \"+valpath)"
   ]
  },
  {
   "cell_type": "code",
   "execution_count": null,
   "metadata": {},
   "outputs": [],
   "source": []
  }
 ],
 "metadata": {
  "kernelspec": {
   "display_name": "Python 2",
   "language": "python",
   "name": "python2"
  },
  "language_info": {
   "codemirror_mode": {
    "name": "ipython",
    "version": 2
   },
   "file_extension": ".py",
   "mimetype": "text/x-python",
   "name": "python",
   "nbconvert_exporter": "python",
   "pygments_lexer": "ipython2",
   "version": "2.7.17"
  }
 },
 "nbformat": 4,
 "nbformat_minor": 2
}
