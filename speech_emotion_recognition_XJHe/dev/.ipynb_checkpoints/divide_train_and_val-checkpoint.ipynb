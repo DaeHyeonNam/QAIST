{
 "cells": [
  {
   "cell_type": "code",
   "execution_count": 4,
   "metadata": {},
   "outputs": [],
   "source": [
    "import os\n",
    "import random"
   ]
  },
  {
   "cell_type": "code",
   "execution_count": 5,
   "metadata": {},
   "outputs": [],
   "source": [
    "num_val = 5000\n",
    "\n",
    "#wav files dir for *training*\n",
    "wavFolder = \"/home/daehyeon/qia2019/wavFiles/train/\"\n",
    "valWavFolder = \"/home/daehyeon/qia2019/wavFiles/val/\"\n",
    "\n",
    "wavfiles = [f for f in os.listdir(wavFolder) if os.path.isfile(os.path.join(wavFolder, f))]"
   ]
  },
  {
   "cell_type": "code",
   "execution_count": 7,
   "metadata": {},
   "outputs": [],
   "source": [
    "\n",
    "rdFiles = random.sample(range(len(wavfiles)), num_val) #randomly choose 'num' of files from wavfiles\n",
    "\n",
    "for rdFile in rdFiles:\n",
    "    os.system(\"mv \"+wavFolder+wavfiles[rdFile]+\" \"+valWavFolder)"
   ]
  },
  {
   "cell_type": "code",
   "execution_count": null,
   "metadata": {},
   "outputs": [],
   "source": []
  }
 ],
 "metadata": {
  "kernelspec": {
   "display_name": "Python 2",
   "language": "python",
   "name": "python2"
  },
  "language_info": {
   "codemirror_mode": {
    "name": "ipython",
    "version": 2
   },
   "file_extension": ".py",
   "mimetype": "text/x-python",
   "name": "python",
   "nbconvert_exporter": "python",
   "pygments_lexer": "ipython2",
   "version": "2.7.17"
  }
 },
 "nbformat": 4,
 "nbformat_minor": 2
}
