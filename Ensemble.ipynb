{
 "cells": [
  {
   "cell_type": "markdown",
   "metadata": {},
   "source": [
    "Hap, sur, dis, neu, fea, sad, ang\n",
    "각 줄은 각 감정에 대한 7개의 확률이 표시되어 있음. csv\n",
    "\n",
    "input = multiple csvs output = result.csv\n",
    "output = (1, hap) (2, sad)"
   ]
  },
  {
   "cell_type": "code",
   "execution_count": 45,
   "metadata": {
    "collapsed": true
   },
   "outputs": [],
   "source": [
    "import numpy as np\n",
    "\n",
    "emotions_dae = ['hap', 'sur', 'dis', 'neu', 'fea', 'sad', 'ang']\n",
    "# emotions_asim = ['hap', 'sur', 'dis', 'neu', 'fea', 'sad', 'ang']\n",
    "emotions_asim = ['ang', 'dis', 'fea', 'hap', 'neu', 'sad', 'sur']"
   ]
  },
  {
   "cell_type": "code",
   "execution_count": 49,
   "metadata": {
    "collapsed": true
   },
   "outputs": [],
   "source": [
    "def ensemble_thres(row1, row2):\n",
    "    '''\n",
    "    method: threshold\n",
    "    return value: labels among hap ~ ang \n",
    "    '''\n",
    "    \n",
    "    thres = 0.7\n",
    "    acc1 = 0.40\n",
    "    acc2 = 0.43\n",
    "    \n",
    "    index1 = np.argmax(row1)\n",
    "    index2 = np.argmax(row2)\n",
    "    prob1 = row1[index1]\n",
    "    prob2 = row2[index2]\n",
    "    \n",
    "    if (prob1 > thres and prob2 > thres):\n",
    "        if (prob1 > prob2):\n",
    "            return emotions_dae[index1]\n",
    "        return emotions_asim[index2]\n",
    "    if (prob1 > thres):\n",
    "        return emotions_dae[index1]\n",
    "    if (prob2 > thres):\n",
    "        return emotions_asim[index2]\n",
    "    \n",
    "    if (acc1 > acc2):\n",
    "        return emotions_dae[index1]\n",
    "    return emotions_asim[index2]"
   ]
  },
  {
   "cell_type": "code",
   "execution_count": 50,
   "metadata": {
    "collapsed": true
   },
   "outputs": [],
   "source": [
    "def ensemble_soft_vote(row1, row2):\n",
    "    '''\n",
    "    method: soft vote\n",
    "    return value: labels among hap ~ ang\n",
    "\n",
    "    we can also consider the probabilities of each classes\n",
    "    returned by all the models,\n",
    "    average these probabilities \n",
    "    and keep the class with the highest average probability \n",
    "    '''\n",
    "\n",
    "    sums = {'hap': 0, 'sur': 0, 'dis': 0, 'neu': 0, \n",
    "            'fea': 0, 'sad': 0, 'ang': 0}\n",
    "    # fill in sums dictionary\n",
    "    for i in range(len(row1)):\n",
    "        sums[emotions_dae[i]] += row1[i]\n",
    "    for i in range(len(row2)):\n",
    "        sums[emotions_asim[i]] += row2[i]\n",
    "        \n",
    "    emos = [(k, v) for k, v in sums.items()]\n",
    "    \n",
    "    max_sum = 0\n",
    "    result_emo = ''\n",
    "    for elem in emos:\n",
    "        if (elem[1] > max_sum):\n",
    "            max_sum = elem[1]\n",
    "            result_emo = elem[0]\n",
    "    return result_emo"
   ]
  },
  {
   "cell_type": "code",
   "execution_count": null,
   "metadata": {
    "collapsed": true
   },
   "outputs": [],
   "source": [
    "def ensemble_thres_combined_with_soft_vote(row1, row2):\n",
    "    '''\n",
    "    method: soft vote\n",
    "    return value: labels among hap ~ ang\n",
    "    '''\n",
    "    \n",
    "    thres = 0.7\n",
    "    \n",
    "    index1 = np.argmax(row1)\n",
    "    index2 = np.argmax(row2)\n",
    "    prob1 = row1[index1]\n",
    "    prob2 = row2[index2]\n",
    "    \n",
    "    if (prob1 > thres and prob2 > thres):\n",
    "        if (prob1 > prob2):\n",
    "            return emotions_dae[index1]\n",
    "        return emotions_asim[index2]\n",
    "    if (prob1 > thres):\n",
    "        return emotions_dae[index1]\n",
    "    if (prob2 > thres):\n",
    "        return emotions_asim[index2]\n",
    "    \n",
    "    return ensemble_soft_vote(row1, row2)"
   ]
  },
  {
   "cell_type": "code",
   "execution_count": 51,
   "metadata": {
    "collapsed": true
   },
   "outputs": [],
   "source": [
    "import csv\n",
    "\n",
    "'''\n",
    "model1 = dae\n",
    "model2 = asim\n",
    "'''\n",
    "######################\n",
    "dae_filename = 'test2Result_dae.csv'\n",
    "asim_filename = 'test2Result_asim.csv'\n",
    "index_filename = 'test2_index.csv'\n",
    "submit_filename = 'submit_test2_thres.csv'\n",
    "######################\n",
    "\n",
    "\n",
    "model1 = open(dae_filename, 'r')  \n",
    "csv1 = csv.reader(model1, delimiter=',')\n",
    "model2 = open(asim_filename, 'r')\n",
    "csv2 = csv.reader(model2, delimiter=',')\n",
    "\n",
    "conversion = open(index_filename)\n",
    "conv_csv = csv.reader(conversion, delimiter=',')\n",
    "\n",
    "csv_output = open(submit_filename, 'w')\n",
    "\n",
    "line_num = 0\n",
    "for row1 in csv1: # type(row) == list\n",
    "    for row2 in csv2:\n",
    "        for num in conv_csv:\n",
    "            row1 = list(map(lambda x: float(x), row1))\n",
    "            row2 = list(map(lambda x: float(x), row2))\n",
    "            emo = ensemble_thres(row1, row2)\n",
    "            csv_output.write(num[0] + \",\" + emo + \"\\n\")\n",
    "            break\n",
    "        break\n",
    "    line_num += 1\n",
    "        \n",
    "        \n",
    "model1.close()\n",
    "model2.close()\n",
    "csv_output.close()"
   ]
  },
  {
   "cell_type": "code",
   "execution_count": null,
   "metadata": {
    "collapsed": true
   },
   "outputs": [],
   "source": []
  }
 ],
 "metadata": {
  "kernelspec": {
   "display_name": "Python 3",
   "language": "python",
   "name": "python3"
  },
  "language_info": {
   "codemirror_mode": {
    "name": "ipython",
    "version": 3
   },
   "file_extension": ".py",
   "mimetype": "text/x-python",
   "name": "python",
   "nbconvert_exporter": "python",
   "pygments_lexer": "ipython3",
   "version": "3.5.6"
  }
 },
 "nbformat": 4,
 "nbformat_minor": 2
}
